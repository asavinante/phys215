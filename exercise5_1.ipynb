{
 "cells": [
  {
   "cell_type": "markdown",
   "metadata": {},
   "source": [
    "This programming exercise is from the textbook [Think Complexity, 2nd edition](https://thinkcomplex.com) by Allen Downey. This book is distributed under the [MIT License](http://opensource.org/licenses/MIT).\n",
    "\n",
    "Some computer code from the textbook were also reused and modified for the purposes of this exercise. These reused computer code are indicated in the solution for this exercise and are still credited to the author."
   ]
  },
  {
   "cell_type": "markdown",
   "metadata": {},
   "source": [
    "# Solution goes here\n",
    "\n",
    "The following code generates the code to be used for this exercise."
   ]
  },
  {
   "cell_type": "code",
   "execution_count": 1,
   "metadata": {},
   "outputs": [
    {
     "name": "stdout",
     "output_type": "stream",
     "text": [
      "[0 1 2 3 4 5 6 7] [1, 1, 1, 1]\n"
     ]
    }
   ],
   "source": [
    "import numpy as np\n",
    "\n",
    "\"\"\"\n",
    "range(N) only returns an iterator\n",
    "np.arange(N) has the same result as list(range(N))\n",
    "\"\"\"\n",
    "\n",
    "\n",
    "array = np.arange(8)\n",
    "window = [1, 1, 1, 1]\n",
    "\n",
    "print(array, window)"
   ]
  },
  {
   "cell_type": "markdown",
   "metadata": {},
   "source": [
    "This is the version of correlate that has the same output as `numpy.correlate` except that it does not have the mode **full**. As hinted in the exercise, this uses the function `pad` from the `numpy` package."
   ]
  },
  {
   "cell_type": "code",
   "execution_count": 2,
   "metadata": {},
   "outputs": [
    {
     "name": "stdout",
     "output_type": "stream",
     "text": [
      "[ 1  3  6 10 14 18 22 18]\n"
     ]
    }
   ],
   "source": [
    "\"\"\"\n",
    "This returns a result that is similar to numpy.correlate except that it does not have the mode 'full'\n",
    "Uses list comprehension to evaluate the elements of the array to be returned\n",
    "\n",
    "The mode 'valid' returns the elements where the array and the window overlap\n",
    "\n",
    "The mode 'same' returns an array with the same size as the input array\n",
    "\n",
    "Other (undefined) modes will return a TypeError\n",
    "Note that this is not robust in the sense that it does not check if the elements of the input arrays\n",
    "are all floats or integers. This error however is caught by numpy.sum()\n",
    "\"\"\"\n",
    "\n",
    "def correlate(array, window, mode = 'valid'):\n",
    "    window_len = len(window)\n",
    "    array_len = len(array)\n",
    "    \n",
    "    original_size = array_len - window_len + 1\n",
    "    \n",
    "    # The initial conditional checks if the mode is a valid mode\n",
    "    if mode == 'valid':\n",
    "        c = [np.sum(array[k:k+window_len] * window) for k in range(original_size)]\n",
    "        \n",
    "        return np.array(c)\n",
    "    \n",
    "    elif mode == 'same':\n",
    "        # This next conditional checks the amount of zeroes to be added to each side of the input array\n",
    "        # For an odd number of zeroes, the left side will have an additional zero\n",
    "        if (array_len - original_size) %2 == 1:\n",
    "            resizer = (array_len - original_size - 1) // 2\n",
    "            \n",
    "            array = np.pad(array, (resizer+1, resizer), 'constant', constant_values = 0)\n",
    "            c = [np.sum(array[k:k+window_len] * window) for k in range(array_len)]\n",
    "            \n",
    "            return np.array(c)\n",
    "        \n",
    "        # For an even number of zeroes, both sides will have the same number of zeroes\n",
    "        elif (array_len - original_size) %2 == 0:\n",
    "            resizer = (array_len - original_size) // 2\n",
    "            \n",
    "            array = np.pad(array, (resizer+1, resizer), 'constant', constant_values = 0)\n",
    "            c = [np.sum(array[k:k+window_len] * window) for k in range(array_len)]\n",
    "            \n",
    "            return np.array(c)\n",
    "\n",
    "    # Raises a TypeError if the input mode is undefined\n",
    "    else:\n",
    "        raise TypeError(mode + ' is an undefined mode')\n",
    "    \n",
    "\n",
    "print(correlate(array, window, 'same'))"
   ]
  },
  {
   "cell_type": "code",
   "execution_count": 3,
   "metadata": {},
   "outputs": [
    {
     "name": "stdout",
     "output_type": "stream",
     "text": [
      "[ 1  3  6 10 14 18 22 18]\n"
     ]
    }
   ],
   "source": [
    "\"\"\"\n",
    "This is the result from numpy for comparison\n",
    "\"\"\"\n",
    "\n",
    "result = np.correlate(array, window, mode = 'same')\n",
    "print(result)"
   ]
  },
  {
   "cell_type": "code",
   "execution_count": null,
   "metadata": {},
   "outputs": [],
   "source": []
  }
 ],
 "metadata": {
  "kernelspec": {
   "display_name": "Python 3",
   "language": "python",
   "name": "python3"
  },
  "language_info": {
   "codemirror_mode": {
    "name": "ipython",
    "version": 3
   },
   "file_extension": ".py",
   "mimetype": "text/x-python",
   "name": "python",
   "nbconvert_exporter": "python",
   "pygments_lexer": "ipython3",
   "version": "3.8.5"
  }
 },
 "nbformat": 4,
 "nbformat_minor": 4
}
