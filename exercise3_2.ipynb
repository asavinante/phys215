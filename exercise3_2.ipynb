{
 "cells": [
  {
   "cell_type": "markdown",
   "metadata": {},
   "source": [
    "This programming exercise is from the textbook [Think Complexity, 2nd edition](https://thinkcomplex.com) by Allen Downey. This book is distributed under the [MIT License](http://opensource.org/licenses/MIT).\n",
    "\n",
    "Some computer code from the textbook were also reused and modified for the purposes of this exercise. These reused computer code are indicated in the solution for this exercise and are still credited to the author."
   ]
  },
  {
   "cell_type": "markdown",
   "metadata": {},
   "source": [
    "**Exercise:** My implementation of `reachable_nodes_bfs` is efficient in the sense that it is in $O(n + m)$, but it incurs a lot of overhead adding nodes to the queue and removing them.  NetworkX provides a simple, fast implementation of BFS, available from [the NetworkX repository on GitHub](https://github.com/networkx/networkx/blob/master/networkx/algorithms/components/connected.py).\n",
    "\n",
    "Here is a version I modified to return a set of nodes:"
   ]
  },
  {
   "cell_type": "code",
   "execution_count": 2,
   "metadata": {},
   "outputs": [],
   "source": [
    "def plain_bfs(G, start):\n",
    "    \"\"\"A fast BFS node generator\"\"\"\n",
    "    seen = set()\n",
    "    nextlevel = {start}\n",
    "    while nextlevel:\n",
    "        thislevel = nextlevel\n",
    "        nextlevel = set()\n",
    "        for v in thislevel:\n",
    "            if v not in seen:\n",
    "                seen.add(v)\n",
    "                nextlevel.update(G[v])\n",
    "    return seen"
   ]
  },
  {
   "cell_type": "markdown",
   "metadata": {},
   "source": [
    "Compare this function to `reachable_nodes_bfs` and see which is faster.  Then see if you can modify this function to implement a faster version of `shortest_path_dijkstra`"
   ]
  },
  {
   "cell_type": "markdown",
   "metadata": {},
   "source": [
    "# Solution goes here\n",
    "\n",
    "Included here is the solution for exercise 3.1 which is used to test the efficiency of `reachable_nodes_bfs` and `plain_bfs` from the textbook. Note that these two functions are largely unmodified except for added spaces in order to increase readability."
   ]
  },
  {
   "cell_type": "code",
   "execution_count": 1,
   "metadata": {},
   "outputs": [],
   "source": [
    "import networkx as nx\n",
    "\n",
    "def adjacent_edges(nodes, k):\n",
    "    n = len(nodes)\n",
    "    \n",
    "    if k%2 != 0 and n%2 != 0:                                            # Checks if n is odd and k is odd\n",
    "        raise ValueError('k cannot be odd when n is odd')                # Raises the value error\n",
    "    \n",
    "    else:\n",
    "        if k % 2 == 0:                                                   # This part is similar to the one in the book\n",
    "            k = k//2\n",
    "            for i in range(n):\n",
    "                for j in range(i+1, i+k+1):\n",
    "                    yield nodes[i],nodes[j%n]                            # Except that it uses the actual values of the nodes\n",
    "                \n",
    "        else:                                                            # Runs this part if k is odd\n",
    "            k = k-1                                                      # Turns odd k into even k and repeats the above code\n",
    "            k = k // 2\n",
    "            for i in range(n):\n",
    "                for j in range(i+1-k, i+k+1):\n",
    "                    yield nodes[i],nodes[j%n]\n",
    "                \n",
    "                yield nodes[i],nodes[(i+n//2)%n]                         # This adds an edge to the opposite node\n",
    "\n",
    "def make_regular_graph(node, k):\n",
    "    G = nx.Graph()                                                       # Creates the initial graph G\n",
    "    \n",
    "    G.add_nodes_from(range(node))\n",
    "    G.add_edges_from(adjacent_edges(range(node),k))                             # Runs the adjacent_edges function\n",
    "    \n",
    "    return G"
   ]
  },
  {
   "cell_type": "markdown",
   "metadata": {},
   "source": [
    "These next two functions `reachable_nodes_bfe` and `plain_bfs` are the ones provided by the textbook"
   ]
  },
  {
   "cell_type": "code",
   "execution_count": 2,
   "metadata": {},
   "outputs": [],
   "source": [
    "from collections import deque\n",
    "\n",
    "def reachable_nodes_bfs(G, start):\n",
    "    seen = set()\n",
    "    queue = deque([start])\n",
    "    \n",
    "    while queue:\n",
    "        node = queue.popleft()\n",
    "        \n",
    "        if node not in seen:\n",
    "            seen.add(node)\n",
    "            queue.extend(G.neighbors(node))\n",
    "            \n",
    "    return seen"
   ]
  },
  {
   "cell_type": "code",
   "execution_count": 3,
   "metadata": {},
   "outputs": [],
   "source": [
    "def plain_bfs(G, start):\n",
    "    seen = set()\n",
    "    nextlevel = {start}\n",
    "    \n",
    "    while nextlevel:\n",
    "        thislevel = nextlevel\n",
    "        nextlevel = set()\n",
    "        \n",
    "        for v in thislevel:\n",
    "            if v not in seen:\n",
    "                seen.add(v)\n",
    "                nextlevel.update(G[v])\n",
    "                \n",
    "    return seen"
   ]
  },
  {
   "cell_type": "code",
   "execution_count": 4,
   "metadata": {},
   "outputs": [],
   "source": [
    "complete = make_regular_graph(1000, 10)"
   ]
  },
  {
   "cell_type": "code",
   "execution_count": 5,
   "metadata": {},
   "outputs": [
    {
     "name": "stdout",
     "output_type": "stream",
     "text": [
      "1.17 ms ± 1.77 µs per loop (mean ± std. dev. of 7 runs, 1000 loops each)\n"
     ]
    }
   ],
   "source": [
    "%timeit len(reachable_nodes_bfs(complete, 0))"
   ]
  },
  {
   "cell_type": "code",
   "execution_count": 6,
   "metadata": {},
   "outputs": [
    {
     "name": "stdout",
     "output_type": "stream",
     "text": [
      "1.13 ms ± 5.4 µs per loop (mean ± std. dev. of 7 runs, 1000 loops each)\n"
     ]
    }
   ],
   "source": [
    "%timeit len(plain_bfs(complete, 0))"
   ]
  },
  {
   "cell_type": "markdown",
   "metadata": {},
   "source": [
    "It can be seen here that `plain_bfs` performs faster than `reachable_nodes_bfs`."
   ]
  },
  {
   "cell_type": "code",
   "execution_count": 7,
   "metadata": {},
   "outputs": [],
   "source": [
    "def modified_djikstra(G, start):\n",
    "    dist = {}\n",
    "    nextlevel = {start}\n",
    "    value = 0\n",
    "    \n",
    "    while nextlevel:\n",
    "        thislevel = nextlevel\n",
    "        nextlevel = set()\n",
    "        \n",
    "        for v in thislevel:\n",
    "            if v not in dist:\n",
    "                \"\"\"To add new entries  to dictionaries use dict_name[key] = value\"\"\"\n",
    "                \n",
    "                dist[v] = value\n",
    "                nextlevel.update(G[v])\n",
    "                \n",
    "        value += 1\n",
    "                \n",
    "    return dist"
   ]
  },
  {
   "cell_type": "markdown",
   "metadata": {},
   "source": [
    "Here `modified_djistra` is the `plain_bfs` from the textbook modified to perform Djikstra's algorithm. In order to compare this to `shortest_path_djikstra`, the function from the textbook must be copied here:"
   ]
  },
  {
   "cell_type": "code",
   "execution_count": 8,
   "metadata": {},
   "outputs": [],
   "source": [
    "def shortest_path_dijkstra(G, source):\n",
    "    \"\"\"Finds shortest paths from `source` to all other nodes.\n",
    "    \n",
    "    G: graph\n",
    "    source: node to start at\n",
    "    \n",
    "    returns: make from node to path length\n",
    "    \"\"\"\n",
    "    dist = {source: 0}\n",
    "    queue = deque([source])\n",
    "    while queue:\n",
    "        node = queue.popleft()\n",
    "        new_dist = dist[node] + 1\n",
    "\n",
    "        neighbors = set(G[node]).difference(dist)\n",
    "        for n in neighbors:\n",
    "            dist[n] = new_dist\n",
    "        \n",
    "        queue.extend(neighbors)\n",
    "    return dist"
   ]
  },
  {
   "cell_type": "markdown",
   "metadata": {},
   "source": [
    "The following tests whether they provided the same shortest path."
   ]
  },
  {
   "cell_type": "code",
   "execution_count": 9,
   "metadata": {},
   "outputs": [
    {
     "data": {
      "text/plain": [
       "True"
      ]
     },
     "execution_count": 9,
     "metadata": {},
     "output_type": "execute_result"
    }
   ],
   "source": [
    "complete_1 = make_regular_graph(6, 3)\n",
    "\n",
    "d1 = modified_djikstra(complete_1, 0)\n",
    "d2 = shortest_path_dijkstra(complete_1, 0)\n",
    "\n",
    "d1==d2"
   ]
  },
  {
   "cell_type": "markdown",
   "metadata": {},
   "source": [
    "This shows that they provide the same shortest paths. "
   ]
  },
  {
   "cell_type": "code",
   "execution_count": 10,
   "metadata": {},
   "outputs": [
    {
     "name": "stdout",
     "output_type": "stream",
     "text": [
      "6.56 µs ± 33.1 ns per loop (mean ± std. dev. of 7 runs, 100000 loops each)\n"
     ]
    }
   ],
   "source": [
    "%timeit len(modified_djikstra(complete_1, 0))"
   ]
  },
  {
   "cell_type": "code",
   "execution_count": 11,
   "metadata": {},
   "outputs": [
    {
     "name": "stdout",
     "output_type": "stream",
     "text": [
      "7.57 µs ± 61.8 ns per loop (mean ± std. dev. of 7 runs, 100000 loops each)\n"
     ]
    }
   ],
   "source": [
    "%timeit len(shortest_path_dijkstra(complete_1, 0))"
   ]
  },
  {
   "cell_type": "markdown",
   "metadata": {},
   "source": [
    "This shows that `modified_djikstra` performs faster than `shortest_path_djikstra`"
   ]
  }
 ],
 "metadata": {
  "kernelspec": {
   "display_name": "Python 3",
   "language": "python",
   "name": "python3"
  },
  "language_info": {
   "codemirror_mode": {
    "name": "ipython",
    "version": 3
   },
   "file_extension": ".py",
   "mimetype": "text/x-python",
   "name": "python",
   "nbconvert_exporter": "python",
   "pygments_lexer": "ipython3",
   "version": "3.8.5"
  }
 },
 "nbformat": 4,
 "nbformat_minor": 4
}
