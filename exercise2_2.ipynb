{
 "cells": [
  {
   "cell_type": "markdown",
   "metadata": {},
   "source": [
    "The exercise and the code exerpt provided are from [Think Complexity, 2nd edition](https://thinkcomplex.com) by Allen Downey. This book is distributed under the [MIT License](http://opensource.org/licenses/MIT)."
   ]
  },
  {
   "cell_type": "markdown",
   "metadata": {},
   "source": [
    "**Exercise:** In Chapter 2 we analyzed the performance of `reachable_nodes` and classified it in $O(n + m)$, where $n$ is the number of nodes and $m$ is the number of edges.  Continuing the\n",
    "analysis, what is the order of growth for `is_connected`?\n",
    "\n",
    "    def is_connected(G):\n",
    "        start = list(G)[0]\n",
    "        reachable = reachable_nodes(G, start)\n",
    "        return len(reachable) == len(G)"
   ]
  },
  {
   "cell_type": "markdown",
   "metadata": {},
   "source": [
    "# Solution goes here\n",
    "\n",
    "From the provided code,  for `start` grabbing the first element in the list is constant in time. For `reachable`, this is equal to `reachable_nodes` which is classified as $O(n + m)$. For the equivalence between `len(reachable)` and `len(G)`, this is probably linear in term because of the use of **linear search** for unsorted data types. However note that for algorithmic analysis, functions with the same leading term are equivalent hence $O(n+n) = O(n)$. From this the order of growth here is still $O(n+m)$."
   ]
  },
  {
   "cell_type": "code",
   "execution_count": null,
   "metadata": {},
   "outputs": [],
   "source": []
  }
 ],
 "metadata": {
  "kernelspec": {
   "display_name": "Python 3",
   "language": "python",
   "name": "python3"
  },
  "language_info": {
   "codemirror_mode": {
    "name": "ipython",
    "version": 3
   },
   "file_extension": ".py",
   "mimetype": "text/x-python",
   "name": "python",
   "nbconvert_exporter": "python",
   "pygments_lexer": "ipython3",
   "version": "3.8.5"
  }
 },
 "nbformat": 4,
 "nbformat_minor": 4
}
