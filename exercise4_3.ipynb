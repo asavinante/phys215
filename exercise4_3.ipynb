{
 "cells": [
  {
   "cell_type": "markdown",
   "metadata": {},
   "source": [
    "This programming exercise is from the textbook [Think Complexity, 2nd edition](https://thinkcomplex.com) by Allen Downey. This book is distributed under the [MIT License](http://opensource.org/licenses/MIT).\n",
    "\n",
    "Some computer code from the textbook were also reused and modified for the purposes of this exercise. These reused computer code are indicated in the solution for this exercise and are still credited to the author."
   ]
  },
  {
   "cell_type": "markdown",
   "metadata": {},
   "source": [
    "**Exercise:** Data files from the Barabasi and Albert paper are available from\n",
    "[this web page](http://www3.nd.edu/~networks/resources.htm).\n",
    "\n",
    "Their actor collaboration data is included in the repository for this book in a file named\n",
    "`actor.dat.gz`.  The following function reads the file and builds the graph."
   ]
  },
  {
   "cell_type": "code",
   "execution_count": 1,
   "metadata": {},
   "outputs": [],
   "source": [
    "import gzip\n",
    "\n",
    "def read_actor_network(filename, n=None):\n",
    "    \"\"\"Reads graph data from a file.\n",
    "    \n",
    "    filename: string\n",
    "    n: int, number of lines to read (default is all)\n",
    "    \"\"\"\n",
    "    G = nx.Graph()\n",
    "    with gzip.open(filename) as f:\n",
    "        for i, line in enumerate(f):\n",
    "            nodes = [int(x) for x in line.split()]\n",
    "            G.add_edges_from(all_pairs(nodes))\n",
    "            if n and i >= n:\n",
    "                break\n",
    "    return G\n",
    "\n",
    "def all_pairs(nodes):\n",
    "    \"\"\"Generates all pairs of nodes.\"\"\"\n",
    "    for i, u in enumerate(nodes):\n",
    "        for j, v in enumerate(nodes):\n",
    "            if i < j:\n",
    "                yield u, v"
   ]
  },
  {
   "cell_type": "markdown",
   "metadata": {},
   "source": [
    "Compute the number of actors in the graph and the number of edges.\n",
    "\n",
    "Check whether this graph has the small world properties, high clustering and low\n",
    "path length.\n",
    "\n",
    "Plot the PMF of degree on a log-log scale.  Does it seem to follow a power law?\n",
    "\n",
    "Also plot the CDF of degree on a log-x scale, to \n",
    "see the general shape of the distribution, and on a log-log scale, to see whether \n",
    "the tail follows a power law.\n",
    "\n",
    "Note: The actor network is not connected, so you might want to use\n",
    "`nx.connected_components` to find connected subsets of the\n",
    "nodes."
   ]
  },
  {
   "cell_type": "markdown",
   "metadata": {},
   "source": [
    "# Solution goes here\n",
    "\n",
    "From the code provided from the textbook, the function `read_actor_network` generates a graph from the provided data. The function `max` then selects the subgraph from the generated graph that has the largest amount of connected nodes."
   ]
  },
  {
   "cell_type": "code",
   "execution_count": 2,
   "metadata": {},
   "outputs": [],
   "source": [
    "import networkx as nx\n",
    "import gzip\n",
    "import thinkstats2\n",
    "import thinkplot\n",
    "import math\n",
    "import matplotlib.pyplot as plt\n",
    "\n",
    "\"\"\"\n",
    "The following code is from the textbook:\n",
    "\n",
    "The first creates a graph from the data in the included file \"actor.dat.gz\". The second function is the\n",
    "all_pairs function in chapter 2\n",
    "\n",
    "\"\"\"\n",
    "\n",
    "def read_actor_network(filename, n=None):\n",
    "    G = nx.Graph()\n",
    "    \n",
    "    with gzip.open(filename) as f:\n",
    "        for i, line in enumerate(f):\n",
    "            nodes = [int(x) for x in line.split()]\n",
    "            G.add_edges_from(all_pairs(nodes))\n",
    "            \n",
    "            if n and i >= n:\n",
    "                break\n",
    "                \n",
    "    return G\n",
    "\n",
    "def all_pairs(nodes):\n",
    "    \"\"\"Generates all pairs of nodes.\"\"\"\n",
    "    for i, u in enumerate(nodes):\n",
    "        for j, v in enumerate(nodes):\n",
    "            if i < j:\n",
    "                yield u, v\n",
    "                \n",
    "G = read_actor_network('actor.dat.gz')                             # Generates a graph using read_actor_network\n",
    "\n",
    "selected_component = max(nx.connected_components(G), key = len)    # Produces the longest connected network"
   ]
  },
  {
   "cell_type": "markdown",
   "metadata": {},
   "source": [
    "The above code generates all the data needed in order to produce the graphs required in this exercise. The remaining code manipulates the data from the graph $G$ and creates the needed plots."
   ]
  },
  {
   "cell_type": "code",
   "execution_count": 3,
   "metadata": {},
   "outputs": [],
   "source": [
    "\"\"\"\n",
    "This generates the manipulated data such as degree per node, PMF and CDF\n",
    "\"\"\"\n",
    "\n",
    "degrees = [G.degree(u) for u in selected_component]\n",
    "\n",
    "pmf_deg = thinkstats2.Pmf(degrees)  # This generates a dictionary! key:value\n",
    "cdf_deg = thinkstats2.Cdf(degrees)  # Also generates a dictionary(?)"
   ]
  },
  {
   "cell_type": "code",
   "execution_count": 4,
   "metadata": {},
   "outputs": [
    {
     "data": {
      "image/png": "[encoded data removed]",
      "text/plain": [
       "<Figure size 432x288 with 1 Axes>"
      ]
     },
     "metadata": {
      "needs_background": "light"
     },
     "output_type": "display_data"
    }
   ],
   "source": [
    "\"\"\"\n",
    "The following code generates the PMF plot in log-log\n",
    "\"\"\"\n",
    "\n",
    "log_x = [math.log10(k) for k in pmf_deg]\n",
    "log_y = [math.log10(pmf_deg[k]) for k in pmf_deg]\n",
    "\n",
    "plt.plot(log_x,log_y,'.')\n",
    "plt.xlabel('log(degree)')\n",
    "plt.ylabel('log(PMF)')\n",
    "plt.show()"
   ]
  },
  {
   "cell_type": "markdown",
   "metadata": {},
   "source": [
    "This shows the PMF of the data set plotted in a log-log scale.\n",
    "\n",
    "The following code manipulates the data from `cdf_deg` in order to compute for the CDF of the dataset."
   ]
  },
  {
   "cell_type": "code",
   "execution_count": 5,
   "metadata": {},
   "outputs": [],
   "source": [
    "\"\"\"\n",
    "The following code manipulates the data required for the CDF plots\n",
    "\"\"\"\n",
    "\n",
    "x_values, y_values = cdf_deg.xs, cdf_deg.ps # This unpacks cdf_deg into x_values and y_values\n",
    "                                            # Using cdf_deg.Render() also includes the zeroth entry! (Do not use)\n",
    "\n",
    "log_y_values = [math.log10(u) for u in y_values]\n",
    "log_x_values = [math.log10(u) for u in x_values]"
   ]
  },
  {
   "cell_type": "markdown",
   "metadata": {},
   "source": [
    "The following then generates a plot in a log-x scale:"
   ]
  },
  {
   "cell_type": "code",
   "execution_count": 6,
   "metadata": {},
   "outputs": [
    {
     "data": {
      "image/png": "[encoded data removed]",
      "text/plain": [
       "<Figure size 432x288 with 1 Axes>"
      ]
     },
     "metadata": {
      "needs_background": "light"
     },
     "output_type": "display_data"
    }
   ],
   "source": [
    "\"\"\"\n",
    "This generates the CDF plot in a log-x scale\n",
    "\"\"\"\n",
    "\n",
    "plt.plot(log_x_values, y_values)\n",
    "plt.xlabel('Degree')\n",
    "plt.ylabel('CDF')\n",
    "plt.show()"
   ]
  },
  {
   "cell_type": "markdown",
   "metadata": {},
   "source": [
    "This shows the general shape of the distribution.\n",
    "\n",
    "Finally, the following generates a plot in a log-log scale:"
   ]
  },
  {
   "cell_type": "code",
   "execution_count": 16,
   "metadata": {},
   "outputs": [
    {
     "data": {
      "image/png": "[encoded data removed]",
      "text/plain": [
       "<Figure size 432x288 with 1 Axes>"
      ]
     },
     "metadata": {
      "needs_background": "light"
     },
     "output_type": "display_data"
    }
   ],
   "source": [
    "\"\"\"\n",
    "This generates the CDF plot in a log-log scale\n",
    "\"\"\"\n",
    "\n",
    "plt.plot(log_x_values, log_y_values)\n",
    "plt.xlabel('Degree')\n",
    "plt.ylabel('CDF')\n",
    "plt.show()"
   ]
  },
  {
   "cell_type": "markdown",
   "metadata": {},
   "source": [
    "This shows the distribution in a log-log scale."
   ]
  }
 ],
 "metadata": {
  "kernelspec": {
   "display_name": "Python 3",
   "language": "python",
   "name": "python3"
  },
  "language_info": {
   "codemirror_mode": {
    "name": "ipython",
    "version": 3
   },
   "file_extension": ".py",
   "mimetype": "text/x-python",
   "name": "python",
   "nbconvert_exporter": "python",
   "pygments_lexer": "ipython3",
   "version": "3.8.5"
  }
 },
 "nbformat": 4,
 "nbformat_minor": 4
}
