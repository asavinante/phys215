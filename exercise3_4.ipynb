{
 "cells": [
  {
   "cell_type": "markdown",
   "metadata": {},
   "source": [
    "This programming exercise is from the textbook [Think Complexity, 2nd edition](https://thinkcomplex.com) by Allen Downey. This book is distributed under the [MIT License](http://opensource.org/licenses/MIT).\n",
    "\n",
    "Some computer code from the textbook were also reused and modified for the purposes of this exercise. These reused computer code are indicated in the solution for this exercise and are still credited to the author."
   ]
  },
  {
   "cell_type": "markdown",
   "metadata": {},
   "source": [
    "**Exercise:** In the book, I claimed that Dijkstra's algorithm does not work unless it uses BFS.  Write a version of `shortest_path_dijkstra` that uses DFS and test it on a few examples to see what goes wrong."
   ]
  },
  {
   "cell_type": "markdown",
   "metadata": {},
   "source": [
    "# Solution goes here\n",
    "\n",
    "Here `bad_djisktra` is Djikstra's algorithm implemented in DFS as opposed to the version implemented in BFS as given in the textbook. This implementation is similar to the function `reachable_nodes` that can be found in the textbook."
   ]
  },
  {
   "cell_type": "code",
   "execution_count": 1,
   "metadata": {},
   "outputs": [],
   "source": [
    "import networkx as nx\n",
    "\n",
    "def bad_djikstra(G, start):\n",
    "    dist = {}\n",
    "    nextlevel = [start]\n",
    "    value = 0\n",
    "    \n",
    "    while nextlevel:\n",
    "        thislevel = nextlevel.pop()\n",
    "        \n",
    "        if thislevel not in dist:\n",
    "            dist[thislevel] = value\n",
    "            nextlevel.extend(G.neighbors(thislevel))\n",
    "        \n",
    "        value += 1\n",
    "        \n",
    "    return dist"
   ]
  },
  {
   "cell_type": "markdown",
   "metadata": {},
   "source": [
    "The following function is used to create a regular graph with $n$ nodes and $k$ neighbors per each node. Note that this is the same function as in exercise 3.1."
   ]
  },
  {
   "cell_type": "code",
   "execution_count": 2,
   "metadata": {},
   "outputs": [],
   "source": [
    "def adjacent_edges(nodes, k):\n",
    "    n = len(nodes)\n",
    "    \n",
    "    if k%2 != 0 and n%2 != 0:                                            # Checks if n is odd and k is odd\n",
    "        raise ValueError('k cannot be odd when n is odd')                # Raises the value error\n",
    "    \n",
    "    else:\n",
    "        if k % 2 == 0:                                                   # This part is similar to the one in the book\n",
    "            k = k//2\n",
    "            for i in range(n):\n",
    "                for j in range(i+1, i+k+1):\n",
    "                    yield nodes[i],nodes[j%n]                            # Except that it uses the actual values of the nodes\n",
    "                \n",
    "        else:                                                            # Runs this part if k is odd\n",
    "            k = k-1                                                      # Turns odd k into even k and repeats the above code\n",
    "            k = k // 2\n",
    "            for i in range(n):\n",
    "                for j in range(i+1-k, i+k+1):\n",
    "                    yield nodes[i],nodes[j%n]\n",
    "                \n",
    "                yield nodes[i],nodes[(i+n//2)%n]                         # This adds an edge to the opposite node\n",
    "\n",
    "def make_regular_graph(node, k):\n",
    "    G = nx.Graph()                                                       # Creates the initial graph G\n",
    "    \n",
    "    G.add_nodes_from(range(node))\n",
    "    G.add_edges_from(adjacent_edges(range(node),k))                             # Runs the adjacent_edges function\n",
    "    \n",
    "    return G"
   ]
  },
  {
   "cell_type": "markdown",
   "metadata": {},
   "source": [
    "`modified_djikstra` here is my implementation of Djikstra's algorithm using NetworkX's (and the author's) version of BFS. This is used to check the accuracy of `bad_djikstra`. Note that this is the same implementation used in exercise 3.2."
   ]
  },
  {
   "cell_type": "code",
   "execution_count": 3,
   "metadata": {},
   "outputs": [],
   "source": [
    "def modified_djikstra(G, start):\n",
    "    dist = {}\n",
    "    nextlevel = {start}\n",
    "    value = 0\n",
    "    \n",
    "    while nextlevel:\n",
    "        thislevel = nextlevel\n",
    "        nextlevel = set()\n",
    "        \n",
    "        for v in thislevel:\n",
    "            if v not in dist:\n",
    "                \"\"\"To add new entries  to dictionaries use dict_name[key] = value\"\"\"\n",
    "                \n",
    "                dist[v] = value\n",
    "                nextlevel.update(G[v])\n",
    "                \n",
    "        value += 1\n",
    "                \n",
    "    return dist"
   ]
  },
  {
   "cell_type": "code",
   "execution_count": 4,
   "metadata": {},
   "outputs": [
    {
     "data": {
      "text/plain": [
       "False"
      ]
     },
     "execution_count": 4,
     "metadata": {},
     "output_type": "execute_result"
    }
   ],
   "source": [
    "complete = make_regular_graph(10, 5)\n",
    "\n",
    "bad_djikstra(complete, 0)\n",
    "modified_djikstra(complete, 0)\n",
    "\n",
    "bad_djikstra == modified_djikstra"
   ]
  },
  {
   "cell_type": "markdown",
   "metadata": {},
   "source": [
    "Hence the output of Djikstra's algorithm using DFS results in a different answer as compared to Djikstra's algorithm using BFS."
   ]
  },
  {
   "cell_type": "code",
   "execution_count": null,
   "metadata": {},
   "outputs": [],
   "source": []
  }
 ],
 "metadata": {
  "kernelspec": {
   "display_name": "Python 3",
   "language": "python",
   "name": "python3"
  },
  "language_info": {
   "codemirror_mode": {
    "name": "ipython",
    "version": 3
   },
   "file_extension": ".py",
   "mimetype": "text/x-python",
   "name": "python",
   "nbconvert_exporter": "python",
   "pygments_lexer": "ipython3",
   "version": "3.8.5"
  }
 },
 "nbformat": 4,
 "nbformat_minor": 4
}
