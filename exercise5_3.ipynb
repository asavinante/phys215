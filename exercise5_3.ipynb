{
 "cells": [
  {
   "cell_type": "code",
   "execution_count": 2,
   "metadata": {},
   "outputs": [],
   "source": [
    "import networkx as nx\n",
    "import matplotlib.pyplot as plt\n",
    "import numpy as np\n",
    "from collections import deque"
   ]
  },
  {
   "cell_type": "code",
   "execution_count": 11,
   "metadata": {},
   "outputs": [],
   "source": [
    "\"\"\"\n",
    "This is an example Turing machine (3-state Busy Beaver) implemented using nested conditionals. This however\n",
    "is not what was being asked for, and hence is only useful for evaluation purposes.\n",
    "\n",
    "\n",
    "Part of this code was reused in order to create the classes Turing and TuringViewer\n",
    "\"\"\"\n",
    "\n",
    "\n",
    "def test_turing(array, index = 0):\n",
    "    state = 0\n",
    "    steps = 0 # THIS IS FOR EVALUATION PURPOSES\n",
    "\n",
    "    \"\"\"By default, the Busy Beaver starts at index 0 with state A\"\"\"\n",
    "    index, state = state_a(array, index)\n",
    "    \n",
    "    while state != 3:\n",
    "        steps += 1\n",
    "        \n",
    "        if state == 0:\n",
    "            index, state = state_a(array, index)\n",
    "\n",
    "        elif state == 1:\n",
    "            index, state = state_b(array, index)\n",
    "        \n",
    "        elif state == 2:\n",
    "            index, state = state_c(array, index)\n",
    "            \n",
    "    return steps\n",
    "\n",
    "def state_a(array, index):\n",
    "    \n",
    "    if array[index] == 0:\n",
    "        array[index] = 1\n",
    "        \n",
    "        if len(array) - 1 == index:\n",
    "            array.append(0)\n",
    "            \n",
    "        return index + 1, 1\n",
    "            \n",
    "    elif array[index] == 1:\n",
    "        array[index] = 1\n",
    "        \n",
    "        if index == 0:\n",
    "            array.appendleft(0)\n",
    "\n",
    "            return index, 2\n",
    "        \n",
    "        else:\n",
    "            return index - 1, 2\n",
    "    \n",
    "def state_b(array, index):\n",
    "    \n",
    "    if array[index] == 0:\n",
    "        array[index] = 1\n",
    "        \n",
    "        if index == 0:\n",
    "            array.appendleft(0)\n",
    "\n",
    "            return index, 0\n",
    "        \n",
    "        else:\n",
    "            return index - 1, 0\n",
    "            \n",
    "    elif array[index] == 1:\n",
    "        array[index] = 1\n",
    "        \n",
    "        if len(array) - 1 == index:\n",
    "            array.append(0)\n",
    "        \n",
    "        return index + 1, 1\n",
    "    \n",
    "def state_c(array, index):\n",
    "    \n",
    "    if array[index] == 0:\n",
    "        array[index] = 1\n",
    "        \n",
    "        if index == 0:\n",
    "            array.appendleft(0)\n",
    "\n",
    "            return index, 0\n",
    "        \n",
    "        else:\n",
    "            return index - 1, 1\n",
    "            \n",
    "    elif array[index] == 1:\n",
    "        array[index] = 1\n",
    "        \n",
    "        return index, 3"
   ]
  },
  {
   "cell_type": "code",
   "execution_count": 51,
   "metadata": {},
   "outputs": [],
   "source": [
    "class Turing:\n",
    "    \"\"\"\n",
    "    This creates the Turing machine without any required parameters\n",
    "    \n",
    "    Optional Parameter:\n",
    "    \n",
    "    Columns: Determines the width of the created array\n",
    "    (Length of array is automatically determined by the code)\n",
    "    \n",
    "    Call the method .experiment() in order to perform the experiment\n",
    "    .results() and .positions() gives the result of the experiment and the positions and the states of the head\n",
    "    through out the experiment\n",
    "    \"\"\"\n",
    "    \n",
    "    def __init__ (self, columns = 11):\n",
    "        \n",
    "        self._columns = columns\n",
    "        self._index = self._columns // 2\n",
    "        self._row = 0\n",
    "        self._state = 0\n",
    "        \n",
    "        self._results, self._position = np.zeros((1, self._columns)), np.zeros((1, self._columns))\n",
    "        self._position[0, self._columns // 2] = 1\n",
    "    \n",
    "    \"\"\"The three following functions define the states A to C\"\"\"\n",
    "    def state_a_mat(self, array, row, index):\n",
    "    \n",
    "        if self._results[self._row, self._index] == 0:\n",
    "            self._results[self._row, self._index] = 1\n",
    "        \n",
    "            return index + 1, row + 1, 1\n",
    "    \n",
    "        elif self._results[self._row, self._index] == 1:\n",
    "            self._results[self._row, self._index] = 1\n",
    "        \n",
    "            return index - 1, row + 1, 3\n",
    "    \n",
    "    def state_b_mat(self, array, row, index):\n",
    "    \n",
    "        if self._results[self._row, self._index] == 0:\n",
    "            self._results[self._row, self._index] = 0\n",
    "        \n",
    "            return index + 1, row + 1, 2\n",
    "    \n",
    "        elif self._results[self._row, self._index] == 1:\n",
    "            self._results[self._row, self._index] = 1\n",
    "        \n",
    "            return index + 1, row + 1, 1\n",
    "    \n",
    "    def state_c_mat(self, array, row, index):\n",
    "    \n",
    "        if self._results[self._row, self._index] == 0:\n",
    "            self._results[self._row, self._index] = 1\n",
    "        \n",
    "            return index - 1, row + 1, 2\n",
    "    \n",
    "        elif self._results[self._row, self._index] == 1:\n",
    "            self._results[self._row, self._index] = 1\n",
    "        \n",
    "            return index + 1, row + 1, 0\n",
    "        \n",
    "    def experiment(self):\n",
    "        \"\"\"\n",
    "        This uses conditionals to move between the three states\n",
    "        \n",
    "        The action table from https://en.wikipedia.org/wiki/Busy_beaver#Examples was used for the 3-state 2-color system\n",
    "        \"\"\"\n",
    "        \n",
    "        self._index, self._row, self._state = self.state_a_mat(self._results, 0, self._index)\n",
    "        \n",
    "        while self._state != 3:\n",
    "            \"\"\"This is the part of the code that adds a new row to the arrays\"\"\"\n",
    "            self._results = np.vstack([self._results, self._results[self._row-1]])\n",
    "            self._position = np.vstack([self._position, np.zeros(self._columns)])\n",
    "        \n",
    "            if self._state == 0:\n",
    "                self._position[self._row, self._index] = 1    # Sets the state of the head; 1 = A, 2 = B, 3 = C\n",
    "                self._index, self._row, self._state = self.state_a_mat(self._results, self._row, self._index)\n",
    "\n",
    "            elif self._state == 1:\n",
    "                self._position[self._row, self._index] = 2\n",
    "                self._index, self._row, self._state = self.state_b_mat(self._results, self._row, self._index)\n",
    "                \n",
    "            elif self._state == 2:\n",
    "                self._position[self._row, self._index] = 3\n",
    "                self._index, self._row, self._state = self.state_c_mat(self._results, self._row, self._index)\n",
    "\n",
    "    \"\"\"\n",
    "    These two functions return the arrays results and position\n",
    "    \n",
    "    Note that the same result may be obtained by adding return self._results, self._position in experiments()\n",
    "    This however allows only one array to be grabbed from the experiment\n",
    "    \"\"\"\n",
    "    def results(self):\n",
    "        \n",
    "        return self._results\n",
    "    \n",
    "    def positions(self):\n",
    "        \n",
    "        return self._position "
   ]
  },
  {
   "cell_type": "code",
   "execution_count": 18,
   "metadata": {},
   "outputs": [],
   "source": [
    "test_1 = Turing()\n",
    "test_1.experiment()                                     # This performs the experiment"
   ]
  },
  {
   "cell_type": "code",
   "execution_count": 17,
   "metadata": {},
   "outputs": [
    {
     "data": {
      "image/png": "[encoded data removed]",
      "text/plain": [
       "<Figure size 432x288 with 1 Axes>"
      ]
     },
     "metadata": {
      "needs_background": "light"
     },
     "output_type": "display_data"
    }
   ],
   "source": [
    "plt.imshow(test_1.results(), 'Blues')\n",
    "plt.show()"
   ]
  },
  {
   "cell_type": "code",
   "execution_count": 52,
   "metadata": {},
   "outputs": [
    {
     "data": {
      "image/png": "[encoded data removed]",
      "text/plain": [
       "<Figure size 432x288 with 1 Axes>"
      ]
     },
     "metadata": {
      "needs_background": "light"
     },
     "output_type": "display_data"
    }
   ],
   "source": [
    "plt.imshow(test_1.positions(), 'Reds')\n",
    "plt.show()"
   ]
  },
  {
   "cell_type": "code",
   "execution_count": 53,
   "metadata": {},
   "outputs": [],
   "source": [
    "class TuringViewer:\n",
    "    \"\"\"\n",
    "    This defines the class TuringViewer which generates the needed plots for the Turing machine\n",
    "    \n",
    "    Note that this is very redundant since a simple function would have sufficed, or as defined previously, the\n",
    "    class Turing already has everything needed in order to generate the required plots\n",
    "    \"\"\"\n",
    "    def __init__(self, columns = 11):\n",
    "        \n",
    "        self._columns = columns\n",
    "        \n",
    "        self._experiment = Turing(columns)\n",
    "        self._experiment.experiment()\n",
    "        \n",
    "        self._positions, self._results = self._experiment.positions(), self._experiment.results()\n",
    "        \n",
    "        \n",
    "    \"\"\"This creates the combined plots of positions and results\"\"\"\n",
    "    def imposed_plot(self):\n",
    "        \n",
    "        plt.imshow(self._positions, 'Reds')\n",
    "        plt.imshow(self._results, 'Blues', alpha=0.5)\n",
    "        plt.show()\n",
    "        \n",
    "    def position_plot(self):\n",
    "    \n",
    "        plt.imshow(self._positions, 'Reds')\n",
    "        plt.show()\n",
    "        \n",
    "    def value_plot(self):\n",
    "        \n",
    "        plt.imshow(self._results, 'Reds')\n",
    "        plt.show()"
   ]
  },
  {
   "cell_type": "code",
   "execution_count": 54,
   "metadata": {},
   "outputs": [
    {
     "data": {
      "image/png": "[encoded data removed]",
      "text/plain": [
       "<Figure size 432x288 with 1 Axes>"
      ]
     },
     "metadata": {
      "needs_background": "light"
     },
     "output_type": "display_data"
    }
   ],
   "source": [
    "a = TuringViewer()\n",
    "\n",
    "a.imposed_plot()"
   ]
  },
  {
   "cell_type": "code",
   "execution_count": 55,
   "metadata": {},
   "outputs": [
    {
     "data": {
      "image/png": "[encoded data removed]",
      "text/plain": [
       "<Figure size 432x288 with 1 Axes>"
      ]
     },
     "metadata": {
      "needs_background": "light"
     },
     "output_type": "display_data"
    }
   ],
   "source": [
    "a.position_plot()"
   ]
  },
  {
   "cell_type": "code",
   "execution_count": 56,
   "metadata": {},
   "outputs": [
    {
     "data": {
      "image/png": "[encoded data removed]",
      "text/plain": [
       "<Figure size 432x288 with 1 Axes>"
      ]
     },
     "metadata": {
      "needs_background": "light"
     },
     "output_type": "display_data"
    }
   ],
   "source": [
    "a.value_plot()"
   ]
  },
  {
   "cell_type": "code",
   "execution_count": null,
   "metadata": {},
   "outputs": [],
   "source": []
  }
 ],
 "metadata": {
  "kernelspec": {
   "display_name": "Python 3",
   "language": "python",
   "name": "python3"
  },
  "language_info": {
   "codemirror_mode": {
    "name": "ipython",
    "version": 3
   },
   "file_extension": ".py",
   "mimetype": "text/x-python",
   "name": "python",
   "nbconvert_exporter": "python",
   "pygments_lexer": "ipython3",
   "version": "3.8.5"
  }
 },
 "nbformat": 4,
 "nbformat_minor": 4
}
