{
 "cells": [
  {
   "cell_type": "markdown",
   "metadata": {},
   "source": [
    "In Kuhn's essay entitled \"Objectivity, Value Judgement, and Theory Choice\" he gave five characteristics to judge the efficicacy of a given scientific theory, these are accuracy, consistency, scope, simplicity, and fruitfulness. As Kuhn pointed out however, the choice between competing scientific theories also involves a subjective aspect between the so-called referees. This subjective aspect counteracts the five characteristics given previously, such that one referee may value some characteristics over the others, or that the referee may neglect some of them entirely.\n",
    "\n",
    "Referring back to the original question on whether the BA or WS model is the better explanation, the answer seems to be that they are both correct. To be clear, they both explain the same thing, which is small scale phenomena. The confusion here however is in the application of these models to real world aspects. \n",
    "\n",
    "Consider first the BA model, which suggests that the small world phenomena happens due to small clusters having strong connections between nodes but weak connections between clusters. One real world example of this would be families in a neighborhood, wherein each member of the family would be close-knit, and that connections between families would largely be restricted to one member per family. For this example, the WS model, wherein hubs grow over time, is not applicable since members of one family cannot move to other families with more members. In this instance, the BA model is more preferable compared to the WS model.\n",
    "\n",
    "Now consider the WS model, wherein small hubs grow over time according to the number of vertices already connected, such that more connected nodes grow faster. This may be easily applied to the case of job hunting, or to the more familiar case of a recent university graduate applying to a graduate degree program. In both cases, the more favorable applicant is the one who can network better and has more favorable connections to their past networks. If the applicant was indeed selected, then more connections can be made in their workplace or in the graduate institute. Again, it is shown here that the person who has more connections will be the one that has a higher chance of being selected. Would the BA model be applicable here? The problem with the BA model being applied here is that it would assume that the applicant would already have a large network in the first place which is not the case. The applicant would have started with nothing, and then would slowly build up their network until it reaches a size that is favorable for selection.\n",
    "\n",
    "Herein lies the subjective part of the decision, wherein the referee, which is the one choosing between the models, can refer back to experiences to make their decision on the more favorable model. This of course would be different between each referee, especially if they will come from diverse backgrounds. However, there is no need to rely on a single model to explain social phenomena. Each created model would of course serve a different real world application, while  still being able to give a satisfying explanation to the small world phenomena. Behavior is too complex to predict with absolute precision, and the best that researchers can hope for is a model that encompasses the general behavior of the real world such that it is correct most of the time.\n",
    "\n",
    "In conclusion, the five given characteristics are all correct in choosing the theory which the people should believe in, or in this case the more accurate model. The problem however lies in the application of these models to real world phenomena which shows that neither is more correct than the other. Social behavior is too complex to be modeled by one single theory, in that there would always be cases wherein the predictions from this single theory is too far off from the actual results of the social phenomena. In that case, it would be beneficial to consider multiple theories for multiple aspects of the real world, with each theory in general explaining the same thing, only for different aspects."
   ]
  },
  {
   "cell_type": "code",
   "execution_count": null,
   "metadata": {},
   "outputs": [],
   "source": []
  }
 ],
 "metadata": {
  "kernelspec": {
   "display_name": "Python 3",
   "language": "python",
   "name": "python3"
  },
  "language_info": {
   "codemirror_mode": {
    "name": "ipython",
    "version": 3
   },
   "file_extension": ".py",
   "mimetype": "text/x-python",
   "name": "python",
   "nbconvert_exporter": "python",
   "pygments_lexer": "ipython3",
   "version": "3.8.3"
  }
 },
 "nbformat": 4,
 "nbformat_minor": 4
}
